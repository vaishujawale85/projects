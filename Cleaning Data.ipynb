{
 "cells": [
  {
   "cell_type": "code",
   "execution_count": 2,
   "id": "6058593e-6ed7-4070-b355-edc634d62fac",
   "metadata": {},
   "outputs": [],
   "source": [
    "import pandas as pd\n",
    "import numpy as np\n",
    "import seaborn as sns\n",
    "import matplotlib.pyplot as plt"
   ]
  },
  {
   "cell_type": "code",
   "execution_count": 4,
   "id": "b3116fb7-3e0f-4431-87dc-158ff8157553",
   "metadata": {},
   "outputs": [],
   "source": [
    "# Load the dataset\n",
    "df = pd.read_csv(\"C:\\\\Users\\\\patil\\\\Downloads\\\\AB_NYC_2019.csv\")"
   ]
  },
  {
   "cell_type": "code",
   "execution_count": 4,
   "id": "918cac48-bbe9-4525-bb99-3c86f1ec1f5b",
   "metadata": {},
   "outputs": [
    {
     "name": "stdout",
     "output_type": "stream",
     "text": [
      "Initial Data Overview:\n",
      "<class 'pandas.core.frame.DataFrame'>\n",
      "RangeIndex: 48895 entries, 0 to 48894\n",
      "Data columns (total 16 columns):\n",
      " #   Column                          Non-Null Count  Dtype  \n",
      "---  ------                          --------------  -----  \n",
      " 0   id                              48895 non-null  int64  \n",
      " 1   name                            48879 non-null  object \n",
      " 2   host_id                         48895 non-null  int64  \n",
      " 3   host_name                       48874 non-null  object \n",
      " 4   neighbourhood_group             48895 non-null  object \n",
      " 5   neighbourhood                   48895 non-null  object \n",
      " 6   latitude                        48895 non-null  float64\n",
      " 7   longitude                       48895 non-null  float64\n",
      " 8   room_type                       48895 non-null  object \n",
      " 9   price                           48895 non-null  int64  \n",
      " 10  minimum_nights                  48895 non-null  int64  \n",
      " 11  number_of_reviews               48895 non-null  int64  \n",
      " 12  last_review                     38843 non-null  object \n",
      " 13  reviews_per_month               38843 non-null  float64\n",
      " 14  calculated_host_listings_count  48895 non-null  int64  \n",
      " 15  availability_365                48895 non-null  int64  \n",
      "dtypes: float64(3), int64(7), object(6)\n",
      "memory usage: 6.0+ MB\n",
      "None\n",
      "     id                                              name  host_id  \\\n",
      "0  2539                Clean & quiet apt home by the park     2787   \n",
      "1  2595                             Skylit Midtown Castle     2845   \n",
      "2  3647               THE VILLAGE OF HARLEM....NEW YORK !     4632   \n",
      "3  3831                   Cozy Entire Floor of Brownstone     4869   \n",
      "4  5022  Entire Apt: Spacious Studio/Loft by central park     7192   \n",
      "\n",
      "     host_name neighbourhood_group neighbourhood  latitude  longitude  \\\n",
      "0         John            Brooklyn    Kensington  40.64749  -73.97237   \n",
      "1     Jennifer           Manhattan       Midtown  40.75362  -73.98377   \n",
      "2    Elisabeth           Manhattan        Harlem  40.80902  -73.94190   \n",
      "3  LisaRoxanne            Brooklyn  Clinton Hill  40.68514  -73.95976   \n",
      "4        Laura           Manhattan   East Harlem  40.79851  -73.94399   \n",
      "\n",
      "         room_type  price  minimum_nights  number_of_reviews last_review  \\\n",
      "0     Private room    149               1                  9  2018-10-19   \n",
      "1  Entire home/apt    225               1                 45  2019-05-21   \n",
      "2     Private room    150               3                  0         NaN   \n",
      "3  Entire home/apt     89               1                270  2019-07-05   \n",
      "4  Entire home/apt     80              10                  9  2018-11-19   \n",
      "\n",
      "   reviews_per_month  calculated_host_listings_count  availability_365  \n",
      "0               0.21                               6               365  \n",
      "1               0.38                               2               355  \n",
      "2                NaN                               1               365  \n",
      "3               4.64                               1               194  \n",
      "4               0.10                               1                 0  \n"
     ]
    }
   ],
   "source": [
    "# Display basic information about the dataset\n",
    "print(\"Initial Data Overview:\")\n",
    "print(df.info())\n",
    "print(df.head())\n"
   ]
  },
  {
   "cell_type": "code",
   "execution_count": 5,
   "id": "6939a3bc-4ad4-41af-8625-3d5608e67124",
   "metadata": {},
   "outputs": [
    {
     "name": "stdout",
     "output_type": "stream",
     "text": [
      "\n",
      "Checking for missing values:\n",
      "id                                    0\n",
      "name                                 16\n",
      "host_id                               0\n",
      "host_name                            21\n",
      "neighbourhood_group                   0\n",
      "neighbourhood                         0\n",
      "latitude                              0\n",
      "longitude                             0\n",
      "room_type                             0\n",
      "price                                 0\n",
      "minimum_nights                        0\n",
      "number_of_reviews                     0\n",
      "last_review                       10052\n",
      "reviews_per_month                 10052\n",
      "calculated_host_listings_count        0\n",
      "availability_365                      0\n",
      "dtype: int64\n"
     ]
    }
   ],
   "source": [
    "# Data Integrity Check\n",
    "print(\"\\nChecking for missing values:\")\n",
    "print(df.isnull().sum())"
   ]
  },
  {
   "cell_type": "code",
   "execution_count": 6,
   "id": "94ca7884-2a9f-4e4b-941c-109b66e8bbe0",
   "metadata": {},
   "outputs": [
    {
     "name": "stdout",
     "output_type": "stream",
     "text": [
      "\n",
      "Missing values after imputation:\n",
      "id                                0\n",
      "name                              0\n",
      "host_id                           0\n",
      "host_name                         0\n",
      "neighbourhood_group               0\n",
      "neighbourhood                     0\n",
      "latitude                          0\n",
      "longitude                         0\n",
      "room_type                         0\n",
      "price                             0\n",
      "minimum_nights                    0\n",
      "number_of_reviews                 0\n",
      "last_review                       0\n",
      "reviews_per_month                 0\n",
      "calculated_host_listings_count    0\n",
      "availability_365                  0\n",
      "dtype: int64\n"
     ]
    }
   ],
   "source": [
    "# Handling Missing Data\n",
    "# Fill missing numerical values with median and categorical values with mode\n",
    "df.fillna({\n",
    "    col: df[col].median() if df[col].dtype in ['int64', 'float64'] else df[col].mode()[0] \n",
    "    for col in df.columns if df[col].isnull().sum() > 0\n",
    "}, inplace=True)\n",
    "\n",
    "print(\"\\nMissing values after imputation:\")\n",
    "print(df.isnull().sum())"
   ]
  },
  {
   "cell_type": "code",
   "execution_count": 7,
   "id": "f43d4a32-cd22-42e0-ac35-197c2f7309dd",
   "metadata": {},
   "outputs": [
    {
     "name": "stdout",
     "output_type": "stream",
     "text": [
      "\n",
      "Duplicate values removed. Remaining records: 48895\n"
     ]
    }
   ],
   "source": [
    "# Removing Duplicates\n",
    "df.drop_duplicates(inplace=True)\n",
    "print(\"\\nDuplicate values removed. Remaining records:\", len(df))\n"
   ]
  },
  {
   "cell_type": "code",
   "execution_count": 8,
   "id": "507e006e-bbd3-4ae3-a279-a8fa45e0e9f6",
   "metadata": {},
   "outputs": [],
   "source": [
    "# Standardization - Convert column names to lowercase and replace spaces with underscores\n",
    "df.columns = df.columns.str.lower().str.replace(\" \", \"_\")\n"
   ]
  },
  {
   "cell_type": "code",
   "execution_count": 9,
   "id": "44427534-6ec0-453d-98fe-e3c29c10fd5a",
   "metadata": {},
   "outputs": [
    {
     "data": {
      "image/png": "[encoded data removed]",
      "text/plain": [
       "<Figure size 1200x600 with 1 Axes>"
      ]
     },
     "metadata": {},
     "output_type": "display_data"
    }
   ],
   "source": [
    "# Outlier Detection using Boxplot\n",
    "numeric_cols = df.select_dtypes(include=[np.number]).columns\n",
    "plt.figure(figsize=(12, 6))\n",
    "sns.boxplot(data=df[numeric_cols])\n",
    "plt.xticks(rotation=45)\n",
    "plt.title(\"Outlier Detection via Boxplot\")\n",
    "plt.show()"
   ]
  },
  {
   "cell_type": "code",
   "execution_count": 10,
   "id": "adad4442-93af-41a7-b951-e4261cbce819",
   "metadata": {},
   "outputs": [],
   "source": [
    "# Removing Outliers using IQR method\n",
    "def remove_outliers(df, columns):\n",
    "    for col in columns:\n",
    "        Q1 = df[col].quantile(0.25)\n",
    "        Q3 = df[col].quantile(0.75)\n",
    "        IQR = Q3 - Q1\n",
    "        lower_bound = Q1 - 1.5 * IQR\n",
    "        upper_bound = Q3 + 1.5 * IQR\n",
    "        df = df[(df[col] >= lower_bound) & (df[col] <= upper_bound)]\n",
    "    return df"
   ]
  },
  {
   "cell_type": "code",
   "execution_count": 11,
   "id": "e2558cd6-1e1a-4e5f-be5c-ddbfaad62652",
   "metadata": {},
   "outputs": [
    {
     "name": "stdout",
     "output_type": "stream",
     "text": [
      "\n",
      "Data shape after outlier removal: (17506, 16)\n"
     ]
    }
   ],
   "source": [
    "df_cleaned = remove_outliers(df, numeric_cols)\n",
    "print(\"\\nData shape after outlier removal:\", df_cleaned.shape)"
   ]
  },
  {
   "cell_type": "code",
   "execution_count": 16,
   "id": "75ccb2b8-afee-4c56-ab3e-f772adacab97",
   "metadata": {},
   "outputs": [
    {
     "name": "stdout",
     "output_type": "stream",
     "text": [
      "Cleaned data saved as ABNYC_cleaned.csv\n"
     ]
    }
   ],
   "source": [
    "# Save cleaned data\n",
    "df.to_csv(\"ABNYC_cleaned.csv\", index=False)\n",
    "print(\"Cleaned data saved as ABNYC_cleaned.csv\")\n"
   ]
  },
  {
   "cell_type": "code",
   "execution_count": 3,
   "id": "426bd794-f422-46fe-810e-fed220f3c8b8",
   "metadata": {},
   "outputs": [],
   "source": [
    "import pandas as pd\n",
    "import numpy as np\n",
    "import seaborn as sns\n",
    "import matplotlib.pyplot as plt"
   ]
  },
  {
   "cell_type": "code",
   "execution_count": 6,
   "id": "32101c4b-4baf-470d-bc7c-6d78342c1a39",
   "metadata": {},
   "outputs": [
    {
     "name": "stdout",
     "output_type": "stream",
     "text": [
      "          video_id trending_date  \\\n",
      "0      n1WpP7iowLc      17.14.11   \n",
      "1      0dBIkQ4Mz1M      17.14.11   \n",
      "2      5qpjK5DgCt4      17.14.11   \n",
      "3      d380meD0W0M      17.14.11   \n",
      "4      2Vv-BfVoq4g      17.14.11   \n",
      "...            ...           ...   \n",
      "40876  sGolxsMSGfQ      18.14.06   \n",
      "40877  8HNuRNi8t70      18.14.06   \n",
      "40878  GWlKEM3m2EE      18.14.06   \n",
      "40879  lbMKLzQ4cNQ      18.14.06   \n",
      "40880  POTgw38-m58      18.14.06   \n",
      "\n",
      "                                                   title     channel_title  \\\n",
      "0             Eminem - Walk On Water (Audio) ft. Beyoncé        EminemVEVO   \n",
      "1                          PLUSH - Bad Unboxing Fan Mail         iDubbbzTV   \n",
      "2      Racist Superman | Rudy Mancuso, King Bach & Le...      Rudy Mancuso   \n",
      "3                               I Dare You: GOING BALD!?          nigahiga   \n",
      "4            Ed Sheeran - Perfect (Official Music Video)        Ed Sheeran   \n",
      "...                                                  ...               ...   \n",
      "40876                       HOW2: How to Solve a Mystery   Annoying Orange   \n",
      "40877                   Eli Lik Lik Episode 13 Partie 01  Elhiwar Ettounsi   \n",
      "40878  KINGDOM HEARTS III – SQUARE ENIX E3 SHOWCASE 2...    Kingdom Hearts   \n",
      "40879                   Trump Advisor Grovels To Trudeau   The Young Turks   \n",
      "40880                   【完整版】遇到恐怖情人該怎麼辦？2018.06.13小明星大跟班          我愛小明星大跟班   \n",
      "\n",
      "       category_id              publish_time  \\\n",
      "0               10  2017-11-10T17:00:03.000Z   \n",
      "1               23  2017-11-13T17:00:00.000Z   \n",
      "2               23  2017-11-12T19:05:24.000Z   \n",
      "3               24  2017-11-12T18:01:41.000Z   \n",
      "4               10  2017-11-09T11:04:14.000Z   \n",
      "...            ...                       ...   \n",
      "40876           24  2018-06-13T18:00:07.000Z   \n",
      "40877           24  2018-06-13T19:01:18.000Z   \n",
      "40878           20  2018-06-11T17:30:53.000Z   \n",
      "40879           25  2018-06-13T04:00:05.000Z   \n",
      "40880           24  2018-06-13T16:00:03.000Z   \n",
      "\n",
      "                                                    tags     views    likes  \\\n",
      "0      Eminem|\"Walk\"|\"On\"|\"Water\"|\"Aftermath/Shady/In...  17158579   787425   \n",
      "1      plush|\"bad unboxing\"|\"unboxing\"|\"fan mail\"|\"id...   1014651   127794   \n",
      "2      racist superman|\"rudy\"|\"mancuso\"|\"king\"|\"bach\"...   3191434   146035   \n",
      "3      ryan|\"higa\"|\"higatv\"|\"nigahiga\"|\"i dare you\"|\"...   2095828   132239   \n",
      "4      edsheeran|\"ed sheeran\"|\"acoustic\"|\"live\"|\"cove...  33523622  1634130   \n",
      "...                                                  ...       ...      ...   \n",
      "40876  annoying orange|\"funny\"|\"fruit\"|\"talking\"|\"ani...     80685     1701   \n",
      "40877  hkayet tounsia|\"elhiwar ettounsi\"|\"denya okhra...    103339      460   \n",
      "40878  Kingdom Hearts|\"KH3\"|\"Kingdom Hearts 3\"|\"Froze...    773347    25900   \n",
      "40879  180612__TB02SorryExcuse|\"News\"|\"Politics\"|\"The...    115225     2115   \n",
      "40880  吳宗憲|\"吳姍儒\"|\"小明星大跟班\"|\"Sandy\"|\"Jacky wu\"|\"憲哥\"|\"中天...    107392      300   \n",
      "\n",
      "       dislikes  comment_count  \\\n",
      "0         43420         125882   \n",
      "1          1688          13030   \n",
      "2          5339           8181   \n",
      "3          1989          17518   \n",
      "4         21082          85067   \n",
      "...         ...            ...   \n",
      "40876        99           1312   \n",
      "40877        66             51   \n",
      "40878       224           3881   \n",
      "40879       182           1672   \n",
      "40880        62            251   \n",
      "\n",
      "                                       thumbnail_link  comments_disabled  \\\n",
      "0      https://i.ytimg.com/vi/n1WpP7iowLc/default.jpg              False   \n",
      "1      https://i.ytimg.com/vi/0dBIkQ4Mz1M/default.jpg              False   \n",
      "2      https://i.ytimg.com/vi/5qpjK5DgCt4/default.jpg              False   \n",
      "3      https://i.ytimg.com/vi/d380meD0W0M/default.jpg              False   \n",
      "4      https://i.ytimg.com/vi/2Vv-BfVoq4g/default.jpg              False   \n",
      "...                                               ...                ...   \n",
      "40876  https://i.ytimg.com/vi/sGolxsMSGfQ/default.jpg              False   \n",
      "40877  https://i.ytimg.com/vi/8HNuRNi8t70/default.jpg              False   \n",
      "40878  https://i.ytimg.com/vi/GWlKEM3m2EE/default.jpg              False   \n",
      "40879  https://i.ytimg.com/vi/lbMKLzQ4cNQ/default.jpg              False   \n",
      "40880  https://i.ytimg.com/vi/POTgw38-m58/default.jpg              False   \n",
      "\n",
      "       ratings_disabled  video_error_or_removed  \\\n",
      "0                 False                   False   \n",
      "1                 False                   False   \n",
      "2                 False                   False   \n",
      "3                 False                   False   \n",
      "4                 False                   False   \n",
      "...                 ...                     ...   \n",
      "40876             False                   False   \n",
      "40877             False                   False   \n",
      "40878             False                   False   \n",
      "40879             False                   False   \n",
      "40880             False                   False   \n",
      "\n",
      "                                             description  \n",
      "0      Eminem's new track Walk on Water ft. Beyoncé i...  \n",
      "1      STill got a lot of packages. Probably will las...  \n",
      "2      WATCH MY PREVIOUS VIDEO ▶ \\n\\nSUBSCRIBE ► http...  \n",
      "3      I know it's been a while since we did this sho...  \n",
      "4      🎧: https://ad.gt/yt-perfect\\n💰: https://atlant...  \n",
      "...                                                  ...  \n",
      "40876  🚨 NEW MERCH! http://amzn.to/annoyingorange 🚨➤ ...  \n",
      "40877  ► Retrouvez vos programmes préférés : https://...  \n",
      "40878  Find out more about Kingdom Hearts 3: https://...  \n",
      "40879  Peter Navarro isn’t talking so tough now. Ana ...  \n",
      "40880  藝人：李妍瑾、玉兔、班傑、LaLa、小優、少少專家：陳筱屏(律師)、Wendy(心理師)、羅...  \n",
      "\n",
      "[40881 rows x 16 columns]\n"
     ]
    }
   ],
   "source": [
    "CA_df = pd.read_csv(\"C:\\\\Users\\\\patil\\\\Downloads\\\\CAvideos.csv\")\n",
    "print(CA_df)"
   ]
  },
  {
   "cell_type": "code",
   "execution_count": 7,
   "id": "5f8ed985-73af-4dda-b522-c77e2c1a1934",
   "metadata": {},
   "outputs": [
    {
     "name": "stdout",
     "output_type": "stream",
     "text": [
      "Dataset Info:\n",
      "<class 'pandas.core.frame.DataFrame'>\n",
      "RangeIndex: 48895 entries, 0 to 48894\n",
      "Data columns (total 16 columns):\n",
      " #   Column                          Non-Null Count  Dtype  \n",
      "---  ------                          --------------  -----  \n",
      " 0   id                              48895 non-null  int64  \n",
      " 1   name                            48879 non-null  object \n",
      " 2   host_id                         48895 non-null  int64  \n",
      " 3   host_name                       48874 non-null  object \n",
      " 4   neighbourhood_group             48895 non-null  object \n",
      " 5   neighbourhood                   48895 non-null  object \n",
      " 6   latitude                        48895 non-null  float64\n",
      " 7   longitude                       48895 non-null  float64\n",
      " 8   room_type                       48895 non-null  object \n",
      " 9   price                           48895 non-null  int64  \n",
      " 10  minimum_nights                  48895 non-null  int64  \n",
      " 11  number_of_reviews               48895 non-null  int64  \n",
      " 12  last_review                     38843 non-null  object \n",
      " 13  reviews_per_month               38843 non-null  float64\n",
      " 14  calculated_host_listings_count  48895 non-null  int64  \n",
      " 15  availability_365                48895 non-null  int64  \n",
      "dtypes: float64(3), int64(7), object(6)\n",
      "memory usage: 6.0+ MB\n"
     ]
    }
   ],
   "source": [
    "print(\"Dataset Info:\")\n",
    "df.info()"
   ]
  },
  {
   "cell_type": "code",
   "execution_count": 8,
   "id": "e1a1546d-9414-4c8a-ac81-8215bfcae119",
   "metadata": {},
   "outputs": [
    {
     "name": "stdout",
     "output_type": "stream",
     "text": [
      "\n",
      "First 5 Rows:\n",
      "     id                                              name  host_id  \\\n",
      "0  2539                Clean & quiet apt home by the park     2787   \n",
      "1  2595                             Skylit Midtown Castle     2845   \n",
      "2  3647               THE VILLAGE OF HARLEM....NEW YORK !     4632   \n",
      "3  3831                   Cozy Entire Floor of Brownstone     4869   \n",
      "4  5022  Entire Apt: Spacious Studio/Loft by central park     7192   \n",
      "\n",
      "     host_name neighbourhood_group neighbourhood  latitude  longitude  \\\n",
      "0         John            Brooklyn    Kensington  40.64749  -73.97237   \n",
      "1     Jennifer           Manhattan       Midtown  40.75362  -73.98377   \n",
      "2    Elisabeth           Manhattan        Harlem  40.80902  -73.94190   \n",
      "3  LisaRoxanne            Brooklyn  Clinton Hill  40.68514  -73.95976   \n",
      "4        Laura           Manhattan   East Harlem  40.79851  -73.94399   \n",
      "\n",
      "         room_type  price  minimum_nights  number_of_reviews last_review  \\\n",
      "0     Private room    149               1                  9  2018-10-19   \n",
      "1  Entire home/apt    225               1                 45  2019-05-21   \n",
      "2     Private room    150               3                  0         NaN   \n",
      "3  Entire home/apt     89               1                270  2019-07-05   \n",
      "4  Entire home/apt     80              10                  9  2018-11-19   \n",
      "\n",
      "   reviews_per_month  calculated_host_listings_count  availability_365  \n",
      "0               0.21                               6               365  \n",
      "1               0.38                               2               355  \n",
      "2                NaN                               1               365  \n",
      "3               4.64                               1               194  \n",
      "4               0.10                               1                 0  \n"
     ]
    }
   ],
   "source": [
    "print(\"\\nFirst 5 Rows:\")\n",
    "print(df.head())"
   ]
  },
  {
   "cell_type": "code",
   "execution_count": 9,
   "id": "262372c5-38e6-4ba5-b4c7-90268b127505",
   "metadata": {},
   "outputs": [
    {
     "name": "stdout",
     "output_type": "stream",
     "text": [
      "\n",
      "Missing Values Before Handling:\n",
      "id                                    0\n",
      "name                                 16\n",
      "host_id                               0\n",
      "host_name                            21\n",
      "neighbourhood_group                   0\n",
      "neighbourhood                         0\n",
      "latitude                              0\n",
      "longitude                             0\n",
      "room_type                             0\n",
      "price                                 0\n",
      "minimum_nights                        0\n",
      "number_of_reviews                     0\n",
      "last_review                       10052\n",
      "reviews_per_month                 10052\n",
      "calculated_host_listings_count        0\n",
      "availability_365                      0\n",
      "dtype: int64\n"
     ]
    }
   ],
   "source": [
    "# 1. Handling Missing Values\n",
    "print(\"\\nMissing Values Before Handling:\")\n",
    "print(df.isnull().sum())"
   ]
  },
  {
   "cell_type": "code",
   "execution_count": 10,
   "id": "ffbfdb4a-da33-4e80-b967-3f39f7a84f0e",
   "metadata": {},
   "outputs": [
    {
     "name": "stdout",
     "output_type": "stream",
     "text": [
      "\n",
      "Missing Values After Handling:\n",
      "id                                0\n",
      "name                              0\n",
      "host_id                           0\n",
      "host_name                         0\n",
      "neighbourhood_group               0\n",
      "neighbourhood                     0\n",
      "latitude                          0\n",
      "longitude                         0\n",
      "room_type                         0\n",
      "price                             0\n",
      "minimum_nights                    0\n",
      "number_of_reviews                 0\n",
      "last_review                       0\n",
      "reviews_per_month                 0\n",
      "calculated_host_listings_count    0\n",
      "availability_365                  0\n",
      "dtype: int64\n"
     ]
    }
   ],
   "source": [
    "# Impute missing values with mean for numerical columns and mode for categorical ones\n",
    "for col in df.columns:\n",
    "    if df[col].dtype == 'object':\n",
    "        df[col].fillna(df[col].mode()[0], inplace=True)\n",
    "    else:\n",
    "        df[col].fillna(df[col].mean(), inplace=True)\n",
    "\n",
    "print(\"\\nMissing Values After Handling:\")\n",
    "print(df.isnull().sum())\n"
   ]
  },
  {
   "cell_type": "code",
   "execution_count": 11,
   "id": "7d5ede9d-b289-40fa-96ae-59ff01386e6b",
   "metadata": {},
   "outputs": [
    {
     "name": "stdout",
     "output_type": "stream",
     "text": [
      "\n",
      "Dataset Shape After Removing Duplicates: (48895, 16)\n"
     ]
    }
   ],
   "source": [
    "# 2. Removing Duplicates\n",
    "df.drop_duplicates(inplace=True)\n",
    "print(\"\\nDataset Shape After Removing Duplicates:\", df.shape)"
   ]
  },
  {
   "cell_type": "code",
   "execution_count": 12,
   "id": "60d44a3c-7f07-4d4f-9306-0fec291d063f",
   "metadata": {},
   "outputs": [],
   "source": [
    "# 3. Standardization (Convert column names to lowercase, remove spaces)\n",
    "df.columns = df.columns.str.strip().str.lower().str.replace(' ', '_')"
   ]
  },
  {
   "cell_type": "code",
   "execution_count": 13,
   "id": "c99aa17b-754d-429c-93df-8579e3c68288",
   "metadata": {},
   "outputs": [
    {
     "data": {
      "image/png": "[encoded data removed]",
      "text/plain": [
       "<Figure size 1200x600 with 1 Axes>"
      ]
     },
     "metadata": {},
     "output_type": "display_data"
    }
   ],
   "source": [
    "# 4. Outlier Detection using Boxplots\n",
    "numeric_cols = df.select_dtypes(include=['number']).columns\n",
    "plt.figure(figsize=(12, 6))\n",
    "sns.boxplot(data=df[numeric_cols])\n",
    "plt.xticks(rotation=90)\n",
    "plt.title(\"Outlier Detection\")\n",
    "plt.show()"
   ]
  },
  {
   "cell_type": "code",
   "execution_count": 14,
   "id": "0c10724e-450b-4319-b9d7-304ae4a4ea01",
   "metadata": {},
   "outputs": [
    {
     "name": "stdout",
     "output_type": "stream",
     "text": [
      "\n",
      "Dataset Shape After Removing Outliers: (23268, 16)\n"
     ]
    }
   ],
   "source": [
    "# Removing outliers using IQR method\n",
    "def remove_outliers(data, column):\n",
    "    Q1 = data[column].quantile(0.25)\n",
    "    Q3 = data[column].quantile(0.75)\n",
    "    IQR = Q3 - Q1\n",
    "    lower_bound = Q1 - 1.5 * IQR\n",
    "    upper_bound = Q3 + 1.5 * IQR\n",
    "    return data[(data[column] >= lower_bound) & (data[column] <= upper_bound)]\n",
    "\n",
    "for col in numeric_cols:\n",
    "    df = remove_outliers(df, col)\n",
    "\n",
    "print(\"\\nDataset Shape After Removing Outliers:\", df.shape)"
   ]
  },
  {
   "cell_type": "code",
   "execution_count": 15,
   "id": "ca2c828f-3282-45a1-82ab-ac4eb8791fb4",
   "metadata": {},
   "outputs": [
    {
     "name": "stdout",
     "output_type": "stream",
     "text": [
      "Cleaned data saved as CAvideos_cleaned.csv\n"
     ]
    }
   ],
   "source": [
    "# Save cleaned data\n",
    "df.to_csv(\"CAvideos_cleaned.csv\", index=False)\n",
    "print(\"Cleaned data saved as CAvideos_cleaned.csv\")\n"
   ]
  },
  {
   "cell_type": "code",
   "execution_count": null,
   "id": "6dfe3d3d-ee11-4849-be38-6e5568647a74",
   "metadata": {},
   "outputs": [],
   "source": []
  }
 ],
 "metadata": {
  "kernelspec": {
   "display_name": "Python 3 (ipykernel)",
   "language": "python",
   "name": "python3"
  },
  "language_info": {
   "codemirror_mode": {
    "name": "ipython",
    "version": 3
   },
   "file_extension": ".py",
   "mimetype": "text/x-python",
   "name": "python",
   "nbconvert_exporter": "python",
   "pygments_lexer": "ipython3",
   "version": "3.11.7"
  }
 },
 "nbformat": 4,
 "nbformat_minor": 5
}
